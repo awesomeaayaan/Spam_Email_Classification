{
 "cells": [
  {
   "cell_type": "code",
   "execution_count": 1,
   "metadata": {
    "executionInfo": {
     "elapsed": 438,
     "status": "ok",
     "timestamp": 1673411093529,
     "user": {
      "displayName": "Aayaan Gautam",
      "userId": "01710677934728348257"
     },
     "user_tz": -345
    },
    "id": "bHxlb4A8I8m1"
   },
   "outputs": [],
   "source": [
    "import numpy as np\n",
    "import pandas as pd"
   ]
  },
  {
   "cell_type": "code",
   "execution_count": 2,
   "metadata": {
    "executionInfo": {
     "elapsed": 1043,
     "status": "ok",
     "timestamp": 1673411095305,
     "user": {
      "displayName": "Aayaan Gautam",
      "userId": "01710677934728348257"
     },
     "user_tz": -345
    },
    "id": "V9VqfbTOJZVR"
   },
   "outputs": [
    {
     "ename": "FileNotFoundError",
     "evalue": "[Errno 2] No such file or directory: '/content/sample_data/spam.csv'",
     "output_type": "error",
     "traceback": [
      "\u001b[1;31m---------------------------------------------------------------------------\u001b[0m",
      "\u001b[1;31mFileNotFoundError\u001b[0m                         Traceback (most recent call last)",
      "\u001b[1;32m~\\AppData\\Local\\Temp\\ipykernel_24024\\1918407700.py\u001b[0m in \u001b[0;36m<module>\u001b[1;34m\u001b[0m\n\u001b[1;32m----> 1\u001b[1;33m \u001b[0mdf\u001b[0m \u001b[1;33m=\u001b[0m \u001b[0mpd\u001b[0m\u001b[1;33m.\u001b[0m\u001b[0mread_csv\u001b[0m\u001b[1;33m(\u001b[0m\u001b[1;34m\"/content/sample_data/spam.csv\"\u001b[0m\u001b[1;33m,\u001b[0m\u001b[0mencoding\u001b[0m\u001b[1;33m=\u001b[0m\u001b[1;34m'latin-1'\u001b[0m\u001b[1;33m)\u001b[0m\u001b[1;33m\u001b[0m\u001b[1;33m\u001b[0m\u001b[0m\n\u001b[0m",
      "\u001b[1;32mC:\\ProgramData\\Anaconda3\\lib\\site-packages\\pandas\\util\\_decorators.py\u001b[0m in \u001b[0;36mwrapper\u001b[1;34m(*args, **kwargs)\u001b[0m\n\u001b[0;32m    309\u001b[0m                     \u001b[0mstacklevel\u001b[0m\u001b[1;33m=\u001b[0m\u001b[0mstacklevel\u001b[0m\u001b[1;33m,\u001b[0m\u001b[1;33m\u001b[0m\u001b[1;33m\u001b[0m\u001b[0m\n\u001b[0;32m    310\u001b[0m                 )\n\u001b[1;32m--> 311\u001b[1;33m             \u001b[1;32mreturn\u001b[0m \u001b[0mfunc\u001b[0m\u001b[1;33m(\u001b[0m\u001b[1;33m*\u001b[0m\u001b[0margs\u001b[0m\u001b[1;33m,\u001b[0m \u001b[1;33m**\u001b[0m\u001b[0mkwargs\u001b[0m\u001b[1;33m)\u001b[0m\u001b[1;33m\u001b[0m\u001b[1;33m\u001b[0m\u001b[0m\n\u001b[0m\u001b[0;32m    312\u001b[0m \u001b[1;33m\u001b[0m\u001b[0m\n\u001b[0;32m    313\u001b[0m         \u001b[1;32mreturn\u001b[0m \u001b[0mwrapper\u001b[0m\u001b[1;33m\u001b[0m\u001b[1;33m\u001b[0m\u001b[0m\n",
      "\u001b[1;32mC:\\ProgramData\\Anaconda3\\lib\\site-packages\\pandas\\io\\parsers\\readers.py\u001b[0m in \u001b[0;36mread_csv\u001b[1;34m(filepath_or_buffer, sep, delimiter, header, names, index_col, usecols, squeeze, prefix, mangle_dupe_cols, dtype, engine, converters, true_values, false_values, skipinitialspace, skiprows, skipfooter, nrows, na_values, keep_default_na, na_filter, verbose, skip_blank_lines, parse_dates, infer_datetime_format, keep_date_col, date_parser, dayfirst, cache_dates, iterator, chunksize, compression, thousands, decimal, lineterminator, quotechar, quoting, doublequote, escapechar, comment, encoding, encoding_errors, dialect, error_bad_lines, warn_bad_lines, on_bad_lines, delim_whitespace, low_memory, memory_map, float_precision, storage_options)\u001b[0m\n\u001b[0;32m    676\u001b[0m     \u001b[0mkwds\u001b[0m\u001b[1;33m.\u001b[0m\u001b[0mupdate\u001b[0m\u001b[1;33m(\u001b[0m\u001b[0mkwds_defaults\u001b[0m\u001b[1;33m)\u001b[0m\u001b[1;33m\u001b[0m\u001b[1;33m\u001b[0m\u001b[0m\n\u001b[0;32m    677\u001b[0m \u001b[1;33m\u001b[0m\u001b[0m\n\u001b[1;32m--> 678\u001b[1;33m     \u001b[1;32mreturn\u001b[0m \u001b[0m_read\u001b[0m\u001b[1;33m(\u001b[0m\u001b[0mfilepath_or_buffer\u001b[0m\u001b[1;33m,\u001b[0m \u001b[0mkwds\u001b[0m\u001b[1;33m)\u001b[0m\u001b[1;33m\u001b[0m\u001b[1;33m\u001b[0m\u001b[0m\n\u001b[0m\u001b[0;32m    679\u001b[0m \u001b[1;33m\u001b[0m\u001b[0m\n\u001b[0;32m    680\u001b[0m \u001b[1;33m\u001b[0m\u001b[0m\n",
      "\u001b[1;32mC:\\ProgramData\\Anaconda3\\lib\\site-packages\\pandas\\io\\parsers\\readers.py\u001b[0m in \u001b[0;36m_read\u001b[1;34m(filepath_or_buffer, kwds)\u001b[0m\n\u001b[0;32m    573\u001b[0m \u001b[1;33m\u001b[0m\u001b[0m\n\u001b[0;32m    574\u001b[0m     \u001b[1;31m# Create the parser.\u001b[0m\u001b[1;33m\u001b[0m\u001b[1;33m\u001b[0m\u001b[0m\n\u001b[1;32m--> 575\u001b[1;33m     \u001b[0mparser\u001b[0m \u001b[1;33m=\u001b[0m \u001b[0mTextFileReader\u001b[0m\u001b[1;33m(\u001b[0m\u001b[0mfilepath_or_buffer\u001b[0m\u001b[1;33m,\u001b[0m \u001b[1;33m**\u001b[0m\u001b[0mkwds\u001b[0m\u001b[1;33m)\u001b[0m\u001b[1;33m\u001b[0m\u001b[1;33m\u001b[0m\u001b[0m\n\u001b[0m\u001b[0;32m    576\u001b[0m \u001b[1;33m\u001b[0m\u001b[0m\n\u001b[0;32m    577\u001b[0m     \u001b[1;32mif\u001b[0m \u001b[0mchunksize\u001b[0m \u001b[1;32mor\u001b[0m \u001b[0miterator\u001b[0m\u001b[1;33m:\u001b[0m\u001b[1;33m\u001b[0m\u001b[1;33m\u001b[0m\u001b[0m\n",
      "\u001b[1;32mC:\\ProgramData\\Anaconda3\\lib\\site-packages\\pandas\\io\\parsers\\readers.py\u001b[0m in \u001b[0;36m__init__\u001b[1;34m(self, f, engine, **kwds)\u001b[0m\n\u001b[0;32m    930\u001b[0m \u001b[1;33m\u001b[0m\u001b[0m\n\u001b[0;32m    931\u001b[0m         \u001b[0mself\u001b[0m\u001b[1;33m.\u001b[0m\u001b[0mhandles\u001b[0m\u001b[1;33m:\u001b[0m \u001b[0mIOHandles\u001b[0m \u001b[1;33m|\u001b[0m \u001b[1;32mNone\u001b[0m \u001b[1;33m=\u001b[0m \u001b[1;32mNone\u001b[0m\u001b[1;33m\u001b[0m\u001b[1;33m\u001b[0m\u001b[0m\n\u001b[1;32m--> 932\u001b[1;33m         \u001b[0mself\u001b[0m\u001b[1;33m.\u001b[0m\u001b[0m_engine\u001b[0m \u001b[1;33m=\u001b[0m \u001b[0mself\u001b[0m\u001b[1;33m.\u001b[0m\u001b[0m_make_engine\u001b[0m\u001b[1;33m(\u001b[0m\u001b[0mf\u001b[0m\u001b[1;33m,\u001b[0m \u001b[0mself\u001b[0m\u001b[1;33m.\u001b[0m\u001b[0mengine\u001b[0m\u001b[1;33m)\u001b[0m\u001b[1;33m\u001b[0m\u001b[1;33m\u001b[0m\u001b[0m\n\u001b[0m\u001b[0;32m    933\u001b[0m \u001b[1;33m\u001b[0m\u001b[0m\n\u001b[0;32m    934\u001b[0m     \u001b[1;32mdef\u001b[0m \u001b[0mclose\u001b[0m\u001b[1;33m(\u001b[0m\u001b[0mself\u001b[0m\u001b[1;33m)\u001b[0m\u001b[1;33m:\u001b[0m\u001b[1;33m\u001b[0m\u001b[1;33m\u001b[0m\u001b[0m\n",
      "\u001b[1;32mC:\\ProgramData\\Anaconda3\\lib\\site-packages\\pandas\\io\\parsers\\readers.py\u001b[0m in \u001b[0;36m_make_engine\u001b[1;34m(self, f, engine)\u001b[0m\n\u001b[0;32m   1214\u001b[0m             \u001b[1;31m# \"Union[str, PathLike[str], ReadCsvBuffer[bytes], ReadCsvBuffer[str]]\"\u001b[0m\u001b[1;33m\u001b[0m\u001b[1;33m\u001b[0m\u001b[0m\n\u001b[0;32m   1215\u001b[0m             \u001b[1;31m# , \"str\", \"bool\", \"Any\", \"Any\", \"Any\", \"Any\", \"Any\"\u001b[0m\u001b[1;33m\u001b[0m\u001b[1;33m\u001b[0m\u001b[0m\n\u001b[1;32m-> 1216\u001b[1;33m             self.handles = get_handle(  # type: ignore[call-overload]\n\u001b[0m\u001b[0;32m   1217\u001b[0m                 \u001b[0mf\u001b[0m\u001b[1;33m,\u001b[0m\u001b[1;33m\u001b[0m\u001b[1;33m\u001b[0m\u001b[0m\n\u001b[0;32m   1218\u001b[0m                 \u001b[0mmode\u001b[0m\u001b[1;33m,\u001b[0m\u001b[1;33m\u001b[0m\u001b[1;33m\u001b[0m\u001b[0m\n",
      "\u001b[1;32mC:\\ProgramData\\Anaconda3\\lib\\site-packages\\pandas\\io\\common.py\u001b[0m in \u001b[0;36mget_handle\u001b[1;34m(path_or_buf, mode, encoding, compression, memory_map, is_text, errors, storage_options)\u001b[0m\n\u001b[0;32m    784\u001b[0m         \u001b[1;32mif\u001b[0m \u001b[0mioargs\u001b[0m\u001b[1;33m.\u001b[0m\u001b[0mencoding\u001b[0m \u001b[1;32mand\u001b[0m \u001b[1;34m\"b\"\u001b[0m \u001b[1;32mnot\u001b[0m \u001b[1;32min\u001b[0m \u001b[0mioargs\u001b[0m\u001b[1;33m.\u001b[0m\u001b[0mmode\u001b[0m\u001b[1;33m:\u001b[0m\u001b[1;33m\u001b[0m\u001b[1;33m\u001b[0m\u001b[0m\n\u001b[0;32m    785\u001b[0m             \u001b[1;31m# Encoding\u001b[0m\u001b[1;33m\u001b[0m\u001b[1;33m\u001b[0m\u001b[0m\n\u001b[1;32m--> 786\u001b[1;33m             handle = open(\n\u001b[0m\u001b[0;32m    787\u001b[0m                 \u001b[0mhandle\u001b[0m\u001b[1;33m,\u001b[0m\u001b[1;33m\u001b[0m\u001b[1;33m\u001b[0m\u001b[0m\n\u001b[0;32m    788\u001b[0m                 \u001b[0mioargs\u001b[0m\u001b[1;33m.\u001b[0m\u001b[0mmode\u001b[0m\u001b[1;33m,\u001b[0m\u001b[1;33m\u001b[0m\u001b[1;33m\u001b[0m\u001b[0m\n",
      "\u001b[1;31mFileNotFoundError\u001b[0m: [Errno 2] No such file or directory: '/content/sample_data/spam.csv'"
     ]
    }
   ],
   "source": [
    "df = pd.read_csv(\"spam.csv\",encoding='latin-1')"
   ]
  },
  {
   "cell_type": "code",
   "execution_count": null,
   "metadata": {
    "colab": {
     "base_uri": "https://localhost:8080/",
     "height": 337
    },
    "executionInfo": {
     "elapsed": 65,
     "status": "ok",
     "timestamp": 1673411095306,
     "user": {
      "displayName": "Aayaan Gautam",
      "userId": "01710677934728348257"
     },
     "user_tz": -345
    },
    "id": "39Q55bE9JjOB",
    "outputId": "b59750aa-9c18-4496-f2d9-ce33bb5bd126"
   },
   "outputs": [],
   "source": [
    "df.sample(5)"
   ]
  },
  {
   "cell_type": "code",
   "execution_count": null,
   "metadata": {
    "executionInfo": {
     "elapsed": 63,
     "status": "ok",
     "timestamp": 1673411095306,
     "user": {
      "displayName": "Aayaan Gautam",
      "userId": "01710677934728348257"
     },
     "user_tz": -345
    },
    "id": "OP1wxiXJKixH"
   },
   "outputs": [],
   "source": [
    "#1.Data Cleaning\n",
    "#2.EDA\n",
    "#3.Text Preprocessing\n",
    "#4.Model building\n",
    "#5.Evaluation\n",
    "#6.Imporvement\n",
    "\n"
   ]
  },
  {
   "cell_type": "markdown",
   "metadata": {
    "id": "chLf8Kd3LcAn"
   },
   "source": [
    "**Data Cleaning**"
   ]
  },
  {
   "cell_type": "code",
   "execution_count": null,
   "metadata": {
    "colab": {
     "base_uri": "https://localhost:8080/"
    },
    "executionInfo": {
     "elapsed": 63,
     "status": "ok",
     "timestamp": 1673411095306,
     "user": {
      "displayName": "Aayaan Gautam",
      "userId": "01710677934728348257"
     },
     "user_tz": -345
    },
    "id": "Y-UKVd9gLSD9",
    "outputId": "f76872d1-4145-45eb-901b-a5835fd51c49"
   },
   "outputs": [],
   "source": [
    "df.info()"
   ]
  },
  {
   "cell_type": "code",
   "execution_count": null,
   "metadata": {
    "executionInfo": {
     "elapsed": 60,
     "status": "ok",
     "timestamp": 1673411095307,
     "user": {
      "displayName": "Aayaan Gautam",
      "userId": "01710677934728348257"
     },
     "user_tz": -345
    },
    "id": "OQEGc4syLXUk"
   },
   "outputs": [],
   "source": [
    "#drop last  3 column as they don't have any value. They just contain null value\n",
    "df.drop(columns=['Unnamed: 2','Unnamed: 3','Unnamed: 4'],inplace = True)"
   ]
  },
  {
   "cell_type": "code",
   "execution_count": null,
   "metadata": {
    "colab": {
     "base_uri": "https://localhost:8080/",
     "height": 206
    },
    "executionInfo": {
     "elapsed": 59,
     "status": "ok",
     "timestamp": 1673411095307,
     "user": {
      "displayName": "Aayaan Gautam",
      "userId": "01710677934728348257"
     },
     "user_tz": -345
    },
    "id": "c87A604-MPyB",
    "outputId": "4b938d75-68a3-4d1a-f237-95079e306168"
   },
   "outputs": [],
   "source": [
    "df.head(5)"
   ]
  },
  {
   "cell_type": "code",
   "execution_count": null,
   "metadata": {
    "colab": {
     "base_uri": "https://localhost:8080/",
     "height": 206
    },
    "executionInfo": {
     "elapsed": 58,
     "status": "ok",
     "timestamp": 1673411095307,
     "user": {
      "displayName": "Aayaan Gautam",
      "userId": "01710677934728348257"
     },
     "user_tz": -345
    },
    "id": "2j3Hn48IMfAH",
    "outputId": "21277ad9-18d0-41ec-eab9-b8d2c6b7249a"
   },
   "outputs": [],
   "source": [
    "#renaming the columns\n",
    "df.rename(columns={'v1':'target','v2':'text'},inplace=True)\n",
    "df.head()"
   ]
  },
  {
   "cell_type": "code",
   "execution_count": null,
   "metadata": {
    "executionInfo": {
     "elapsed": 59,
     "status": "ok",
     "timestamp": 1673411095308,
     "user": {
      "displayName": "Aayaan Gautam",
      "userId": "01710677934728348257"
     },
     "user_tz": -345
    },
    "id": "4PxVr5oCNCb-"
   },
   "outputs": [],
   "source": [
    "from sklearn.preprocessing import LabelEncoder\n",
    "encoder = LabelEncoder()"
   ]
  },
  {
   "cell_type": "code",
   "execution_count": null,
   "metadata": {
    "executionInfo": {
     "elapsed": 58,
     "status": "ok",
     "timestamp": 1673411095308,
     "user": {
      "displayName": "Aayaan Gautam",
      "userId": "01710677934728348257"
     },
     "user_tz": -345
    },
    "id": "cISLNkZ7NZb6"
   },
   "outputs": [],
   "source": [
    "df['target'] = encoder.fit_transform(df['target'])"
   ]
  },
  {
   "cell_type": "code",
   "execution_count": null,
   "metadata": {
    "colab": {
     "base_uri": "https://localhost:8080/",
     "height": 206
    },
    "executionInfo": {
     "elapsed": 59,
     "status": "ok",
     "timestamp": 1673411095309,
     "user": {
      "displayName": "Aayaan Gautam",
      "userId": "01710677934728348257"
     },
     "user_tz": -345
    },
    "id": "UwS6w2ooNibB",
    "outputId": "da0c322e-5ade-4acd-f1c5-ccd620a8c4f1"
   },
   "outputs": [],
   "source": [
    "df.sample(5)"
   ]
  },
  {
   "cell_type": "code",
   "execution_count": null,
   "metadata": {
    "colab": {
     "base_uri": "https://localhost:8080/",
     "height": 206
    },
    "executionInfo": {
     "elapsed": 59,
     "status": "ok",
     "timestamp": 1673411095310,
     "user": {
      "displayName": "Aayaan Gautam",
      "userId": "01710677934728348257"
     },
     "user_tz": -345
    },
    "id": "7VXUm_fbNzuR",
    "outputId": "c988f2d4-9a50-42c4-f988-a8c72691fa1d"
   },
   "outputs": [],
   "source": [
    "df.head()"
   ]
  },
  {
   "cell_type": "code",
   "execution_count": null,
   "metadata": {
    "colab": {
     "base_uri": "https://localhost:8080/"
    },
    "executionInfo": {
     "elapsed": 58,
     "status": "ok",
     "timestamp": 1673411095310,
     "user": {
      "displayName": "Aayaan Gautam",
      "userId": "01710677934728348257"
     },
     "user_tz": -345
    },
    "id": "zhwNEpFbN6sj",
    "outputId": "f85bf924-f165-4fda-b68f-aaf5420486fe"
   },
   "outputs": [],
   "source": [
    "#check whether the missing value is availabe or not\n",
    "df.isnull().sum()"
   ]
  },
  {
   "cell_type": "code",
   "execution_count": null,
   "metadata": {
    "colab": {
     "base_uri": "https://localhost:8080/"
    },
    "executionInfo": {
     "elapsed": 55,
     "status": "ok",
     "timestamp": 1673411095311,
     "user": {
      "displayName": "Aayaan Gautam",
      "userId": "01710677934728348257"
     },
     "user_tz": -345
    },
    "id": "_h_YZCbfOKCh",
    "outputId": "2e3d44e9-7299-45f7-d202-5ffa4327c3c5"
   },
   "outputs": [],
   "source": [
    "#check whether the duplicate value available in the data sets\n",
    "df.duplicated().sum()"
   ]
  },
  {
   "cell_type": "code",
   "execution_count": null,
   "metadata": {
    "executionInfo": {
     "elapsed": 53,
     "status": "ok",
     "timestamp": 1673411095312,
     "user": {
      "displayName": "Aayaan Gautam",
      "userId": "01710677934728348257"
     },
     "user_tz": -345
    },
    "id": "Cq0VN0LNOU4d"
   },
   "outputs": [],
   "source": [
    "#remove the duplicated value from the datasets\n",
    "df = df.drop_duplicates(keep='first')"
   ]
  },
  {
   "cell_type": "code",
   "execution_count": null,
   "metadata": {
    "colab": {
     "base_uri": "https://localhost:8080/"
    },
    "executionInfo": {
     "elapsed": 53,
     "status": "ok",
     "timestamp": 1673411095312,
     "user": {
      "displayName": "Aayaan Gautam",
      "userId": "01710677934728348257"
     },
     "user_tz": -345
    },
    "id": "JbBjHRg_O0lT",
    "outputId": "df921fda-a528-4b12-b2e2-be5ac87b11c6"
   },
   "outputs": [],
   "source": [
    "df.duplicated().sum()"
   ]
  },
  {
   "cell_type": "code",
   "execution_count": null,
   "metadata": {
    "colab": {
     "base_uri": "https://localhost:8080/"
    },
    "executionInfo": {
     "elapsed": 50,
     "status": "ok",
     "timestamp": 1673411095313,
     "user": {
      "displayName": "Aayaan Gautam",
      "userId": "01710677934728348257"
     },
     "user_tz": -345
    },
    "id": "XepDzQgmO8ll",
    "outputId": "a768d2da-38ee-4101-c493-1f4b54cba5e8"
   },
   "outputs": [],
   "source": [
    "df.shape"
   ]
  },
  {
   "cell_type": "markdown",
   "metadata": {
    "id": "UEuX75f5QB97"
   },
   "source": [
    "**EDA(Exploratory Data Analysis)**"
   ]
  },
  {
   "cell_type": "code",
   "execution_count": null,
   "metadata": {
    "colab": {
     "base_uri": "https://localhost:8080/",
     "height": 206
    },
    "executionInfo": {
     "elapsed": 47,
     "status": "ok",
     "timestamp": 1673411095313,
     "user": {
      "displayName": "Aayaan Gautam",
      "userId": "01710677934728348257"
     },
     "user_tz": -345
    },
    "id": "jAYogHJ3PzUF",
    "outputId": "7fff7a43-2f3a-4467-a8d1-fb3208eac802"
   },
   "outputs": [],
   "source": [
    "df.head()"
   ]
  },
  {
   "cell_type": "code",
   "execution_count": null,
   "metadata": {
    "colab": {
     "base_uri": "https://localhost:8080/"
    },
    "executionInfo": {
     "elapsed": 46,
     "status": "ok",
     "timestamp": 1673411095313,
     "user": {
      "displayName": "Aayaan Gautam",
      "userId": "01710677934728348257"
     },
     "user_tz": -345
    },
    "id": "ynahYU1WStXU",
    "outputId": "29ddf257-0581-4eea-f199-35905e92577c"
   },
   "outputs": [],
   "source": [
    "df['target'].value_counts()"
   ]
  },
  {
   "cell_type": "code",
   "execution_count": null,
   "metadata": {
    "colab": {
     "base_uri": "https://localhost:8080/",
     "height": 352
    },
    "executionInfo": {
     "elapsed": 43,
     "status": "ok",
     "timestamp": 1673411095314,
     "user": {
      "displayName": "Aayaan Gautam",
      "userId": "01710677934728348257"
     },
     "user_tz": -345
    },
    "id": "U1lKEZoWS2iT",
    "outputId": "f669785b-1ea8-4f3c-8b8a-6ab6bd94a17e"
   },
   "outputs": [],
   "source": [
    "import matplotlib.pyplot as plt\n",
    "plt.pie(df['target'].value_counts(),labels=['ham','spam'],autopct=\"%0.3f\")"
   ]
  },
  {
   "cell_type": "code",
   "execution_count": null,
   "metadata": {
    "executionInfo": {
     "elapsed": 39,
     "status": "ok",
     "timestamp": 1673411095314,
     "user": {
      "displayName": "Aayaan Gautam",
      "userId": "01710677934728348257"
     },
     "user_tz": -345
    },
    "id": "5tDWf3LTTY65"
   },
   "outputs": [],
   "source": [
    "#data is imbalance"
   ]
  },
  {
   "cell_type": "code",
   "execution_count": null,
   "metadata": {
    "executionInfo": {
     "elapsed": 39,
     "status": "ok",
     "timestamp": 1673411095315,
     "user": {
      "displayName": "Aayaan Gautam",
      "userId": "01710677934728348257"
     },
     "user_tz": -345
    },
    "id": "bsck-mAoUZ-D"
   },
   "outputs": [],
   "source": [
    "import nltk"
   ]
  },
  {
   "cell_type": "code",
   "execution_count": null,
   "metadata": {
    "colab": {
     "base_uri": "https://localhost:8080/"
    },
    "executionInfo": {
     "elapsed": 39,
     "status": "ok",
     "timestamp": 1673411095315,
     "user": {
      "displayName": "Aayaan Gautam",
      "userId": "01710677934728348257"
     },
     "user_tz": -345
    },
    "id": "UqtBGnrtUcGK",
    "outputId": "9d944032-e0c6-4f56-9463-b0e6feeb5045"
   },
   "outputs": [],
   "source": [
    "nltk.download('punkt')"
   ]
  },
  {
   "cell_type": "code",
   "execution_count": null,
   "metadata": {
    "executionInfo": {
     "elapsed": 36,
     "status": "ok",
     "timestamp": 1673411095315,
     "user": {
      "displayName": "Aayaan Gautam",
      "userId": "01710677934728348257"
     },
     "user_tz": -345
    },
    "id": "iyBZqEdoUgOa"
   },
   "outputs": [],
   "source": [
    "df['num_characters'] = df['text'].apply(len)"
   ]
  },
  {
   "cell_type": "code",
   "execution_count": null,
   "metadata": {
    "colab": {
     "base_uri": "https://localhost:8080/",
     "height": 206
    },
    "executionInfo": {
     "elapsed": 36,
     "status": "ok",
     "timestamp": 1673411095316,
     "user": {
      "displayName": "Aayaan Gautam",
      "userId": "01710677934728348257"
     },
     "user_tz": -345
    },
    "id": "f63RaT8xU1cY",
    "outputId": "e5bcfe58-5c61-4427-fabd-87d8bfa87dee"
   },
   "outputs": [],
   "source": [
    "df.head()"
   ]
  },
  {
   "cell_type": "code",
   "execution_count": null,
   "metadata": {
    "executionInfo": {
     "elapsed": 1275,
     "status": "ok",
     "timestamp": 1673411096556,
     "user": {
      "displayName": "Aayaan Gautam",
      "userId": "01710677934728348257"
     },
     "user_tz": -345
    },
    "id": "2oJuxkWrVSwQ"
   },
   "outputs": [],
   "source": [
    "#fetching the number of words in the text\n",
    "df['num_of_word'] = df['text'].apply(lambda x:len(nltk.word_tokenize(x)))"
   ]
  },
  {
   "cell_type": "code",
   "execution_count": null,
   "metadata": {
    "colab": {
     "base_uri": "https://localhost:8080/",
     "height": 250
    },
    "executionInfo": {
     "elapsed": 20,
     "status": "ok",
     "timestamp": 1673411096557,
     "user": {
      "displayName": "Aayaan Gautam",
      "userId": "01710677934728348257"
     },
     "user_tz": -345
    },
    "id": "6djworc-VqQo",
    "outputId": "03d93ede-e09a-426a-91ef-760d773587a7"
   },
   "outputs": [],
   "source": [
    "df.head()"
   ]
  },
  {
   "cell_type": "code",
   "execution_count": null,
   "metadata": {
    "executionInfo": {
     "elapsed": 18,
     "status": "ok",
     "timestamp": 1673411096557,
     "user": {
      "displayName": "Aayaan Gautam",
      "userId": "01710677934728348257"
     },
     "user_tz": -345
    },
    "id": "1GXvXZULWFmA"
   },
   "outputs": [],
   "source": [
    "df['num_sentence'] = df['text'].apply(lambda x:len(nltk.sent_tokenize(x)))"
   ]
  },
  {
   "cell_type": "code",
   "execution_count": null,
   "metadata": {
    "colab": {
     "base_uri": "https://localhost:8080/",
     "height": 320
    },
    "executionInfo": {
     "elapsed": 17,
     "status": "ok",
     "timestamp": 1673411096557,
     "user": {
      "displayName": "Aayaan Gautam",
      "userId": "01710677934728348257"
     },
     "user_tz": -345
    },
    "id": "A6LZKcB4Wd2H",
    "outputId": "d927950b-62b2-4b42-9e58-b9c35c4394af"
   },
   "outputs": [],
   "source": [
    "df.head()"
   ]
  },
  {
   "cell_type": "code",
   "execution_count": null,
   "metadata": {
    "colab": {
     "base_uri": "https://localhost:8080/",
     "height": 300
    },
    "executionInfo": {
     "elapsed": 17,
     "status": "ok",
     "timestamp": 1673411096558,
     "user": {
      "displayName": "Aayaan Gautam",
      "userId": "01710677934728348257"
     },
     "user_tz": -345
    },
    "id": "Gwk39LFyX-7B",
    "outputId": "34091a86-91e5-48d6-f30c-bededa3135d3"
   },
   "outputs": [],
   "source": [
    "df[['num_characters','num_of_word','num_sentence']].describe()"
   ]
  },
  {
   "cell_type": "code",
   "execution_count": null,
   "metadata": {
    "colab": {
     "base_uri": "https://localhost:8080/",
     "height": 300
    },
    "executionInfo": {
     "elapsed": 16,
     "status": "ok",
     "timestamp": 1673411096558,
     "user": {
      "displayName": "Aayaan Gautam",
      "userId": "01710677934728348257"
     },
     "user_tz": -345
    },
    "id": "wr8sPJ8wYd-g",
    "outputId": "3fc1a5a9-90dc-4eb5-b8b1-bd5831920e65"
   },
   "outputs": [],
   "source": [
    "df[df['target']==0][['num_characters','num_of_word','num_sentence']].describe()"
   ]
  },
  {
   "cell_type": "code",
   "execution_count": null,
   "metadata": {
    "colab": {
     "base_uri": "https://localhost:8080/",
     "height": 300
    },
    "executionInfo": {
     "elapsed": 16,
     "status": "ok",
     "timestamp": 1673411096559,
     "user": {
      "displayName": "Aayaan Gautam",
      "userId": "01710677934728348257"
     },
     "user_tz": -345
    },
    "id": "vbL41WceZAl4",
    "outputId": "87923dd0-de68-49bd-d490-dcc0ecbe0565"
   },
   "outputs": [],
   "source": [
    "df[df['target']!=0][['num_characters','num_of_word','num_sentence']].describe()"
   ]
  },
  {
   "cell_type": "code",
   "execution_count": null,
   "metadata": {
    "colab": {
     "base_uri": "https://localhost:8080/",
     "height": 466
    },
    "executionInfo": {
     "elapsed": 820,
     "status": "ok",
     "timestamp": 1673411097363,
     "user": {
      "displayName": "Aayaan Gautam",
      "userId": "01710677934728348257"
     },
     "user_tz": -345
    },
    "id": "aq1pWp-_ZdDb",
    "outputId": "dc3932ae-2dc6-4007-97cb-c038df83f647"
   },
   "outputs": [],
   "source": [
    "import seaborn as sns\n",
    "plt.figure(figsize=(12,8))\n",
    "sns.histplot(df[df['target']==0]['num_characters'],color='green')\n",
    "sns.histplot(df[df['target']!=0]['num_characters'],color='red')"
   ]
  },
  {
   "cell_type": "code",
   "execution_count": null,
   "metadata": {
    "colab": {
     "base_uri": "https://localhost:8080/",
     "height": 466
    },
    "executionInfo": {
     "elapsed": 1060,
     "status": "ok",
     "timestamp": 1673411098416,
     "user": {
      "displayName": "Aayaan Gautam",
      "userId": "01710677934728348257"
     },
     "user_tz": -345
    },
    "id": "GcYtUkxYalRn",
    "outputId": "cf649a40-8a6b-4c89-ed9c-0b9d40e38843"
   },
   "outputs": [],
   "source": [
    "plt.figure(figsize=(12,8))\n",
    "sns.histplot(df[df['target']==0]['num_of_word'],color='green')\n",
    "sns.histplot(df[df['target']!=0]['num_of_word'],color='red')"
   ]
  },
  {
   "cell_type": "code",
   "execution_count": null,
   "metadata": {
    "colab": {
     "base_uri": "https://localhost:8080/",
     "height": 461
    },
    "executionInfo": {
     "elapsed": 1023,
     "status": "ok",
     "timestamp": 1673411099434,
     "user": {
      "displayName": "Aayaan Gautam",
      "userId": "01710677934728348257"
     },
     "user_tz": -345
    },
    "id": "zdlLxINOcJkr",
    "outputId": "ed126eed-e8cc-4c37-9558-720176473439"
   },
   "outputs": [],
   "source": [
    "plt.figure(figsize=(12,8))\n",
    "sns.histplot(df[df['target']==0]['num_sentence'],color='green')\n",
    "sns.histplot(df[df['target']!=0]['num_sentence'],color='red')"
   ]
  },
  {
   "cell_type": "code",
   "execution_count": null,
   "metadata": {
    "colab": {
     "base_uri": "https://localhost:8080/",
     "height": 567
    },
    "executionInfo": {
     "elapsed": 7595,
     "status": "ok",
     "timestamp": 1673411107024,
     "user": {
      "displayName": "Aayaan Gautam",
      "userId": "01710677934728348257"
     },
     "user_tz": -345
    },
    "id": "q5a7AljJcXEF",
    "outputId": "e8bbcefd-6510-47e2-be3a-aa2239931d67"
   },
   "outputs": [],
   "source": [
    "sns.pairplot(df,hue='target')"
   ]
  },
  {
   "cell_type": "code",
   "execution_count": null,
   "metadata": {
    "colab": {
     "base_uri": "https://localhost:8080/",
     "height": 357
    },
    "executionInfo": {
     "elapsed": 36,
     "status": "ok",
     "timestamp": 1673411107025,
     "user": {
      "displayName": "Aayaan Gautam",
      "userId": "01710677934728348257"
     },
     "user_tz": -345
    },
    "id": "lAainYFycz9l",
    "outputId": "4a788d1f-eacd-4a31-c5a6-f82cbaf96289"
   },
   "outputs": [],
   "source": [
    "sns.heatmap(df.corr(),annot=True)"
   ]
  },
  {
   "cell_type": "markdown",
   "metadata": {
    "id": "-S9dhmEHeseb"
   },
   "source": [
    "**Data Preprocessing**\n",
    "\n",
    "\n",
    "1.   Lower case\n",
    "2.   Tokenization\n",
    "3.   Removing special characters\n",
    "4.   Removing Stop words\n",
    "2.   Stemming\n",
    "\n",
    "\n",
    "\n",
    "\n",
    "\n",
    "\n"
   ]
  },
  {
   "cell_type": "code",
   "execution_count": null,
   "metadata": {
    "colab": {
     "base_uri": "https://localhost:8080/",
     "height": 36
    },
    "executionInfo": {
     "elapsed": 30,
     "status": "ok",
     "timestamp": 1673411107026,
     "user": {
      "displayName": "Aayaan Gautam",
      "userId": "01710677934728348257"
     },
     "user_tz": -345
    },
    "id": "2SYsQdI_04VI",
    "outputId": "6b164545-e29e-4d9e-c06c-8fab05286b94"
   },
   "outputs": [],
   "source": [
    "from nltk.stem.porter import PorterStemmer\n",
    "ps = PorterStemmer()\n",
    "ps.stem('dancing')"
   ]
  },
  {
   "cell_type": "code",
   "execution_count": null,
   "metadata": {
    "executionInfo": {
     "elapsed": 31,
     "status": "ok",
     "timestamp": 1673411107027,
     "user": {
      "displayName": "Aayaan Gautam",
      "userId": "01710677934728348257"
     },
     "user_tz": -345
    },
    "id": "hoAagrX4dw2g"
   },
   "outputs": [],
   "source": [
    "def transform_text(text):\n",
    "  text = text.lower()\n",
    "  text = nltk.word_tokenize(text)\n",
    "#removing the special characters\n",
    "  y=[]\n",
    "  for i in text:\n",
    "    if i.isalnum():\n",
    "      y.append(i)\n",
    "#removing the stop words\n",
    "  text = y[:]\n",
    "  y.clear()\n",
    "  for i in text:\n",
    "    if i not in stopwords.words('english')and i not in string.punctuation:\n",
    "      y.append(i)\n",
    "#performing the stemming\n",
    "  text = y[:]\n",
    "  y.clear()\n",
    "  for i in text:\n",
    "    y.append(ps.stem(i))\n",
    "\n",
    "  return \" \".join(y)\n",
    "\n",
    "  return y\n",
    "  "
   ]
  },
  {
   "cell_type": "code",
   "execution_count": null,
   "metadata": {
    "colab": {
     "base_uri": "https://localhost:8080/"
    },
    "executionInfo": {
     "elapsed": 31,
     "status": "ok",
     "timestamp": 1673411107028,
     "user": {
      "displayName": "Aayaan Gautam",
      "userId": "01710677934728348257"
     },
     "user_tz": -345
    },
    "id": "qbJQPO5EkelK",
    "outputId": "f4d06cd4-33e2-4aba-b878-1d9a894037e8"
   },
   "outputs": [],
   "source": [
    "nltk.download('stopwords')"
   ]
  },
  {
   "cell_type": "code",
   "execution_count": null,
   "metadata": {
    "colab": {
     "base_uri": "https://localhost:8080/"
    },
    "executionInfo": {
     "elapsed": 27,
     "status": "ok",
     "timestamp": 1673411107028,
     "user": {
      "displayName": "Aayaan Gautam",
      "userId": "01710677934728348257"
     },
     "user_tz": -345
    },
    "id": "yuEQMcb0kIGl",
    "outputId": "729af144-63e3-4b89-a9fa-6efd5464d78f"
   },
   "outputs": [],
   "source": [
    "from nltk.corpus import stopwords\n",
    "stopwords.words('english')"
   ]
  },
  {
   "cell_type": "code",
   "execution_count": null,
   "metadata": {
    "colab": {
     "base_uri": "https://localhost:8080/",
     "height": 36
    },
    "executionInfo": {
     "elapsed": 24,
     "status": "ok",
     "timestamp": 1673411107029,
     "user": {
      "displayName": "Aayaan Gautam",
      "userId": "01710677934728348257"
     },
     "user_tz": -345
    },
    "id": "i_x9EHf50j2p",
    "outputId": "fcc2be51-cf8d-40bc-a164-77be0d206f40"
   },
   "outputs": [],
   "source": [
    "from nltk.stem.porter import PorterStemmer\n",
    "ps = PorterStemmer()\n",
    "ps.stem('dancing')"
   ]
  },
  {
   "cell_type": "code",
   "execution_count": null,
   "metadata": {
    "colab": {
     "base_uri": "https://localhost:8080/",
     "height": 36
    },
    "executionInfo": {
     "elapsed": 24,
     "status": "ok",
     "timestamp": 1673411107030,
     "user": {
      "displayName": "Aayaan Gautam",
      "userId": "01710677934728348257"
     },
     "user_tz": -345
    },
    "id": "iEoxe44Ik2HW",
    "outputId": "12682cad-8f48-479d-9ff1-79a0cc591942"
   },
   "outputs": [],
   "source": [
    "import string\n",
    "string.punctuation"
   ]
  },
  {
   "cell_type": "code",
   "execution_count": null,
   "metadata": {
    "colab": {
     "base_uri": "https://localhost:8080/",
     "height": 36
    },
    "executionInfo": {
     "elapsed": 25,
     "status": "ok",
     "timestamp": 1673411107031,
     "user": {
      "displayName": "Aayaan Gautam",
      "userId": "01710677934728348257"
     },
     "user_tz": -345
    },
    "id": "yhrFIxrbf8ZY",
    "outputId": "d336f450-fa97-4996-a7f1-c0318c035b0b"
   },
   "outputs": [],
   "source": [
    "transform_text('I loved the umesh lecture on machine learning. How about you?')"
   ]
  },
  {
   "cell_type": "code",
   "execution_count": null,
   "metadata": {
    "colab": {
     "base_uri": "https://localhost:8080/",
     "height": 53
    },
    "executionInfo": {
     "elapsed": 25,
     "status": "ok",
     "timestamp": 1673411107032,
     "user": {
      "displayName": "Aayaan Gautam",
      "userId": "01710677934728348257"
     },
     "user_tz": -345
    },
    "id": "dZeW0l1wgEhq",
    "outputId": "bcea64cb-b9f2-4e90-c314-01d8a8551fc0"
   },
   "outputs": [],
   "source": [
    "df['text'][0]"
   ]
  },
  {
   "cell_type": "code",
   "execution_count": null,
   "metadata": {
    "executionInfo": {
     "elapsed": 10470,
     "status": "ok",
     "timestamp": 1673411117478,
     "user": {
      "displayName": "Aayaan Gautam",
      "userId": "01710677934728348257"
     },
     "user_tz": -345
    },
    "id": "LfD-WPb0hiPe"
   },
   "outputs": [],
   "source": [
    "df['transformed_text']=df['text'].apply(transform_text)"
   ]
  },
  {
   "cell_type": "code",
   "execution_count": null,
   "metadata": {
    "colab": {
     "base_uri": "https://localhost:8080/",
     "height": 580
    },
    "executionInfo": {
     "elapsed": 19,
     "status": "ok",
     "timestamp": 1673411117480,
     "user": {
      "displayName": "Aayaan Gautam",
      "userId": "01710677934728348257"
     },
     "user_tz": -345
    },
    "id": "ETlOtjcCmwjc",
    "outputId": "203c0255-d77b-49ba-8be6-480e97c180b2"
   },
   "outputs": [],
   "source": [
    "df.head()"
   ]
  },
  {
   "cell_type": "code",
   "execution_count": null,
   "metadata": {
    "executionInfo": {
     "elapsed": 16,
     "status": "ok",
     "timestamp": 1673411117480,
     "user": {
      "displayName": "Aayaan Gautam",
      "userId": "01710677934728348257"
     },
     "user_tz": -345
    },
    "id": "5L3KqPou18dm"
   },
   "outputs": [],
   "source": [
    "from wordcloud import WordCloud\n",
    "wc = WordCloud(width=700,height=800,min_font_size=10,background_color = 'white')"
   ]
  },
  {
   "cell_type": "code",
   "execution_count": null,
   "metadata": {
    "executionInfo": {
     "elapsed": 2912,
     "status": "ok",
     "timestamp": 1673411120376,
     "user": {
      "displayName": "Aayaan Gautam",
      "userId": "01710677934728348257"
     },
     "user_tz": -345
    },
    "id": "BBDWnoSZ2feU"
   },
   "outputs": [],
   "source": [
    "spam_wc = wc.generate(df[df['target']== 1]['transformed_text'].str.cat(sep = \" \"))"
   ]
  },
  {
   "cell_type": "code",
   "execution_count": null,
   "metadata": {
    "colab": {
     "base_uri": "https://localhost:8080/",
     "height": 612
    },
    "executionInfo": {
     "elapsed": 20,
     "status": "ok",
     "timestamp": 1673411120377,
     "user": {
      "displayName": "Aayaan Gautam",
      "userId": "01710677934728348257"
     },
     "user_tz": -345
    },
    "id": "72iNgnzx25wX",
    "outputId": "536031c4-0999-4693-92af-c418d0e7f253"
   },
   "outputs": [],
   "source": [
    "plt.figure(figsize=(20,10))\n",
    "plt.imshow(spam_wc)"
   ]
  },
  {
   "cell_type": "code",
   "execution_count": null,
   "metadata": {
    "executionInfo": {
     "elapsed": 615,
     "status": "ok",
     "timestamp": 1673411120977,
     "user": {
      "displayName": "Aayaan Gautam",
      "userId": "01710677934728348257"
     },
     "user_tz": -345
    },
    "id": "IyVEJZPc3iTL"
   },
   "outputs": [],
   "source": [
    "ham_wc = wc.generate(df[df['target']!= 1]['transformed_text'].str.cat(sep = \" \"))"
   ]
  },
  {
   "cell_type": "code",
   "execution_count": null,
   "metadata": {
    "colab": {
     "base_uri": "https://localhost:8080/",
     "height": 612
    },
    "executionInfo": {
     "elapsed": 2121,
     "status": "ok",
     "timestamp": 1673411123096,
     "user": {
      "displayName": "Aayaan Gautam",
      "userId": "01710677934728348257"
     },
     "user_tz": -345
    },
    "id": "lKv6lGDR5xRG",
    "outputId": "40506394-a42e-4ea5-8103-8316e2b52f9e"
   },
   "outputs": [],
   "source": [
    "plt.figure(figsize=(20,10))\n",
    "plt.imshow(ham_wc)"
   ]
  },
  {
   "cell_type": "code",
   "execution_count": null,
   "metadata": {
    "colab": {
     "base_uri": "https://localhost:8080/",
     "height": 580
    },
    "executionInfo": {
     "elapsed": 30,
     "status": "ok",
     "timestamp": 1673411123097,
     "user": {
      "displayName": "Aayaan Gautam",
      "userId": "01710677934728348257"
     },
     "user_tz": -345
    },
    "id": "GNHtKpse5zXh",
    "outputId": "f088fd29-5126-4eec-a114-9fa21c103f34"
   },
   "outputs": [],
   "source": [
    "df.head()"
   ]
  },
  {
   "cell_type": "code",
   "execution_count": null,
   "metadata": {
    "executionInfo": {
     "elapsed": 29,
     "status": "ok",
     "timestamp": 1673411123098,
     "user": {
      "displayName": "Aayaan Gautam",
      "userId": "01710677934728348257"
     },
     "user_tz": -345
    },
    "id": "Ha1WlD456bqx"
   },
   "outputs": [],
   "source": [
    "spam_corpus = []\n",
    "for msg in df[df['target']==1]['transformed_text'].tolist():\n",
    "  for word in msg.split():\n",
    "    spam_corpus.append(word)"
   ]
  },
  {
   "cell_type": "code",
   "execution_count": null,
   "metadata": {
    "colab": {
     "base_uri": "https://localhost:8080/"
    },
    "executionInfo": {
     "elapsed": 29,
     "status": "ok",
     "timestamp": 1673411123098,
     "user": {
      "displayName": "Aayaan Gautam",
      "userId": "01710677934728348257"
     },
     "user_tz": -345
    },
    "id": "6Z5910wj7R-V",
    "outputId": "01c081a0-ca23-4b92-a645-e68e2f67db45"
   },
   "outputs": [],
   "source": [
    "len(spam_corpus)"
   ]
  },
  {
   "cell_type": "code",
   "execution_count": null,
   "metadata": {
    "colab": {
     "base_uri": "https://localhost:8080/",
     "height": 362
    },
    "executionInfo": {
     "elapsed": 24,
     "status": "ok",
     "timestamp": 1673411123099,
     "user": {
      "displayName": "Aayaan Gautam",
      "userId": "01710677934728348257"
     },
     "user_tz": -345
    },
    "id": "CBs2S20n7Vt_",
    "outputId": "065625b1-4ae0-45d3-d687-e1e70f3e9090"
   },
   "outputs": [],
   "source": [
    "from collections import Counter\n",
    "sns.barplot(pd.DataFrame(Counter(spam_corpus).most_common(30))[0],pd.DataFrame(Counter(spam_corpus).most_common(30))[1])\n",
    "plt.xticks(rotation='vertical')\n",
    "plt.show()"
   ]
  },
  {
   "cell_type": "code",
   "execution_count": null,
   "metadata": {
    "executionInfo": {
     "elapsed": 19,
     "status": "ok",
     "timestamp": 1673411123100,
     "user": {
      "displayName": "Aayaan Gautam",
      "userId": "01710677934728348257"
     },
     "user_tz": -345
    },
    "id": "NT0qMnXQ8FXe"
   },
   "outputs": [],
   "source": [
    "ham_corpus = []\n",
    "for msg in df[df['target']!=1]['transformed_text'].tolist():\n",
    "  for word in msg.split():\n",
    "    ham_corpus.append(word)"
   ]
  },
  {
   "cell_type": "code",
   "execution_count": null,
   "metadata": {
    "colab": {
     "base_uri": "https://localhost:8080/"
    },
    "executionInfo": {
     "elapsed": 20,
     "status": "ok",
     "timestamp": 1673411123101,
     "user": {
      "displayName": "Aayaan Gautam",
      "userId": "01710677934728348257"
     },
     "user_tz": -345
    },
    "id": "qNG9X7GSb28B",
    "outputId": "20d6b489-c721-4aba-9cbd-bc2c4ddf974f"
   },
   "outputs": [],
   "source": [
    "len(ham_corpus)"
   ]
  },
  {
   "cell_type": "code",
   "execution_count": null,
   "metadata": {
    "colab": {
     "base_uri": "https://localhost:8080/",
     "height": 352
    },
    "executionInfo": {
     "elapsed": 929,
     "status": "ok",
     "timestamp": 1673411124015,
     "user": {
      "displayName": "Aayaan Gautam",
      "userId": "01710677934728348257"
     },
     "user_tz": -345
    },
    "id": "xq7qILA1b5PA",
    "outputId": "fff70988-92f9-4d9e-a054-9087c68b2282"
   },
   "outputs": [],
   "source": [
    "from collections import Counter\n",
    "sns.barplot(pd.DataFrame(Counter(ham_corpus).most_common(30))[0],pd.DataFrame(Counter(ham_corpus).most_common(30))[1])\n",
    "plt.xticks(rotation='vertical')\n",
    "plt.show()"
   ]
  },
  {
   "cell_type": "markdown",
   "metadata": {
    "id": "RA6LfOFgc-Sv"
   },
   "source": [
    "**Model Building**"
   ]
  },
  {
   "cell_type": "code",
   "execution_count": null,
   "metadata": {
    "colab": {
     "base_uri": "https://localhost:8080/",
     "height": 580
    },
    "executionInfo": {
     "elapsed": 28,
     "status": "ok",
     "timestamp": 1673411124016,
     "user": {
      "displayName": "Aayaan Gautam",
      "userId": "01710677934728348257"
     },
     "user_tz": -345
    },
    "id": "tV65zjxmcb7S",
    "outputId": "79e2ca20-5c91-41d3-be0f-a75868bac5eb"
   },
   "outputs": [],
   "source": [
    "#Text Vectorization\n",
    "#using Bag of Words\n",
    "df.head()"
   ]
  },
  {
   "cell_type": "code",
   "execution_count": null,
   "metadata": {
    "executionInfo": {
     "elapsed": 27,
     "status": "ok",
     "timestamp": 1673411124016,
     "user": {
      "displayName": "Aayaan Gautam",
      "userId": "01710677934728348257"
     },
     "user_tz": -345
    },
    "id": "R0CY6MffdVnV"
   },
   "outputs": [],
   "source": [
    "from sklearn.feature_extraction.text import CountVectorizer,TfidfVectorizer\n",
    "cv = CountVectorizer()\n",
    "tfidf = TfidfVectorizer(max_features=3000)"
   ]
  },
  {
   "cell_type": "code",
   "execution_count": null,
   "metadata": {
    "executionInfo": {
     "elapsed": 27,
     "status": "ok",
     "timestamp": 1673411124017,
     "user": {
      "displayName": "Aayaan Gautam",
      "userId": "01710677934728348257"
     },
     "user_tz": -345
    },
    "id": "K3kREJfyeKBf"
   },
   "outputs": [],
   "source": [
    "X = cv.fit_transform(df['transformed_text']).toarray()"
   ]
  },
  {
   "cell_type": "code",
   "execution_count": null,
   "metadata": {
    "colab": {
     "base_uri": "https://localhost:8080/"
    },
    "executionInfo": {
     "elapsed": 30,
     "status": "ok",
     "timestamp": 1673411124020,
     "user": {
      "displayName": "Aayaan Gautam",
      "userId": "01710677934728348257"
     },
     "user_tz": -345
    },
    "id": "QgffhWCXeTn4",
    "outputId": "33723432-1e51-4b50-bb4c-3cde2fb25db8"
   },
   "outputs": [],
   "source": [
    "X.shape"
   ]
  },
  {
   "cell_type": "code",
   "execution_count": null,
   "metadata": {
    "executionInfo": {
     "elapsed": 27,
     "status": "ok",
     "timestamp": 1673411124021,
     "user": {
      "displayName": "Aayaan Gautam",
      "userId": "01710677934728348257"
     },
     "user_tz": -345
    },
    "id": "YPCWjfNweVFe"
   },
   "outputs": [],
   "source": [
    "y = df['target'].values"
   ]
  },
  {
   "cell_type": "code",
   "execution_count": null,
   "metadata": {
    "colab": {
     "base_uri": "https://localhost:8080/"
    },
    "executionInfo": {
     "elapsed": 26,
     "status": "ok",
     "timestamp": 1673411124021,
     "user": {
      "displayName": "Aayaan Gautam",
      "userId": "01710677934728348257"
     },
     "user_tz": -345
    },
    "id": "CsI22aNqeeb5",
    "outputId": "200e262b-cea0-4ab9-cea9-ec7f181a5e65"
   },
   "outputs": [],
   "source": [
    "y"
   ]
  },
  {
   "cell_type": "code",
   "execution_count": null,
   "metadata": {
    "executionInfo": {
     "elapsed": 24,
     "status": "ok",
     "timestamp": 1673411124022,
     "user": {
      "displayName": "Aayaan Gautam",
      "userId": "01710677934728348257"
     },
     "user_tz": -345
    },
    "id": "qq1_ISyYee3-"
   },
   "outputs": [],
   "source": [
    "from sklearn.model_selection import train_test_split"
   ]
  },
  {
   "cell_type": "code",
   "execution_count": null,
   "metadata": {
    "executionInfo": {
     "elapsed": 24,
     "status": "ok",
     "timestamp": 1673411124023,
     "user": {
      "displayName": "Aayaan Gautam",
      "userId": "01710677934728348257"
     },
     "user_tz": -345
    },
    "id": "7ZXPhw8Yem13"
   },
   "outputs": [],
   "source": [
    "X_train,X_test,y_train,y_test = train_test_split(X,y,test_size=0.2,random_state=2)"
   ]
  },
  {
   "cell_type": "code",
   "execution_count": null,
   "metadata": {
    "executionInfo": {
     "elapsed": 24,
     "status": "ok",
     "timestamp": 1673411124023,
     "user": {
      "displayName": "Aayaan Gautam",
      "userId": "01710677934728348257"
     },
     "user_tz": -345
    },
    "id": "5geDfvuCe3wZ"
   },
   "outputs": [],
   "source": [
    "from sklearn.naive_bayes import GaussianNB,MultinomialNB,BernoulliNB\n",
    "from sklearn.metrics import accuracy_score,confusion_matrix,precision_score"
   ]
  },
  {
   "cell_type": "code",
   "execution_count": null,
   "metadata": {
    "executionInfo": {
     "elapsed": 25,
     "status": "ok",
     "timestamp": 1673411124024,
     "user": {
      "displayName": "Aayaan Gautam",
      "userId": "01710677934728348257"
     },
     "user_tz": -345
    },
    "id": "dfIj7GO9fCT7"
   },
   "outputs": [],
   "source": [
    "gnb = GaussianNB()\n",
    "mnb = MultinomialNB()\n",
    "bnb = BernoulliNB()"
   ]
  },
  {
   "cell_type": "code",
   "execution_count": null,
   "metadata": {
    "colab": {
     "base_uri": "https://localhost:8080/"
    },
    "executionInfo": {
     "elapsed": 25,
     "status": "ok",
     "timestamp": 1673411124024,
     "user": {
      "displayName": "Aayaan Gautam",
      "userId": "01710677934728348257"
     },
     "user_tz": -345
    },
    "id": "x-oSvHcWfNPM",
    "outputId": "6643e9c9-13a0-4c86-bae5-b06aaf12b6de"
   },
   "outputs": [],
   "source": [
    "gnb.fit(X_train,y_train)\n",
    "y_pred1 = gnb.predict(X_test)\n",
    "print(accuracy_score(y_test,y_pred1))\n",
    "print(confusion_matrix(y_test,y_pred1))\n",
    "print(precision_score(y_test,y_pred1))"
   ]
  },
  {
   "cell_type": "code",
   "execution_count": null,
   "metadata": {
    "colab": {
     "base_uri": "https://localhost:8080/"
    },
    "executionInfo": {
     "elapsed": 737,
     "status": "ok",
     "timestamp": 1673411124740,
     "user": {
      "displayName": "Aayaan Gautam",
      "userId": "01710677934728348257"
     },
     "user_tz": -345
    },
    "id": "KSSyvBdyghQj",
    "outputId": "6c71a775-7863-4097-9d41-cadc9d819ae1"
   },
   "outputs": [],
   "source": [
    "mnb.fit(X_train,y_train)\n",
    "y_pred2 = mnb.predict(X_test)\n",
    "print(accuracy_score(y_test,y_pred2))\n",
    "print(confusion_matrix(y_test,y_pred2))\n",
    "print(precision_score(y_test,y_pred2))"
   ]
  },
  {
   "cell_type": "code",
   "execution_count": null,
   "metadata": {
    "colab": {
     "base_uri": "https://localhost:8080/"
    },
    "executionInfo": {
     "elapsed": 755,
     "status": "ok",
     "timestamp": 1673411125493,
     "user": {
      "displayName": "Aayaan Gautam",
      "userId": "01710677934728348257"
     },
     "user_tz": -345
    },
    "id": "VvjT7wFYg-D0",
    "outputId": "d8f0a20e-df85-492a-f369-fed6e5b4a108"
   },
   "outputs": [],
   "source": [
    "bnb.fit(X_train,y_train)\n",
    "y_pred3 = bnb.predict(X_test)\n",
    "print(accuracy_score(y_test,y_pred3))\n",
    "print(confusion_matrix(y_test,y_pred3))\n",
    "print(precision_score(y_test,y_pred3))"
   ]
  },
  {
   "cell_type": "code",
   "execution_count": null,
   "metadata": {
    "executionInfo": {
     "elapsed": 5,
     "status": "ok",
     "timestamp": 1673411125493,
     "user": {
      "displayName": "Aayaan Gautam",
      "userId": "01710677934728348257"
     },
     "user_tz": -345
    },
    "id": "FuksTrG7hQVA"
   },
   "outputs": [],
   "source": [
    "from sklearn.linear_model import LogisticRegression\n",
    "from sklearn.svm import SVC\n",
    "from sklearn.naive_bayes import MultinomialNB\n",
    "from sklearn.tree import DecisionTreeClassifier\n",
    "from sklearn.neighbors import KNeighborsClassifier\n",
    "from sklearn.ensemble import RandomForestClassifier\n",
    "from sklearn.ensemble import AdaBoostClassifier\n",
    "from sklearn.ensemble import BaggingClassifier\n",
    "from sklearn.ensemble import ExtraTreesClassifier\n",
    "from sklearn.ensemble import GradientBoostingClassifier\n",
    "from xgboost import XGBClassifier"
   ]
  },
  {
   "cell_type": "code",
   "execution_count": null,
   "metadata": {
    "executionInfo": {
     "elapsed": 5,
     "status": "ok",
     "timestamp": 1673411125494,
     "user": {
      "displayName": "Aayaan Gautam",
      "userId": "01710677934728348257"
     },
     "user_tz": -345
    },
    "id": "utHYT6XootzB"
   },
   "outputs": [],
   "source": [
    "svc = SVC(kernel ='sigmoid',gamma=1.0)\n",
    "knc=KNeighborsClassifier()\n",
    "mnb = MultinomialNB()\n",
    "dtc = DecisionTreeClassifier(max_depth=5)\n",
    "lrc = LogisticRegression(solver='liblinear',penalty='l1')\n",
    "rfc = RandomForestClassifier(n_estimators=50,random_state=2)\n",
    "abc = AdaBoostClassifier(n_estimators=50,random_state=2)\n",
    "bc = BaggingClassifier(n_estimators=50,random_state=2)\n",
    "etc = ExtraTreesClassifier(n_estimators=50,random_state=2)\n",
    "gbc = GradientBoostingClassifier(n_estimators=50,random_state=2)\n",
    "xgb = XGBClassifier(n_estimators=50,random_state=2)"
   ]
  },
  {
   "cell_type": "code",
   "execution_count": null,
   "metadata": {
    "executionInfo": {
     "elapsed": 4,
     "status": "ok",
     "timestamp": 1673411125494,
     "user": {
      "displayName": "Aayaan Gautam",
      "userId": "01710677934728348257"
     },
     "user_tz": -345
    },
    "id": "UULMnnBuqxzL"
   },
   "outputs": [],
   "source": [
    "clfs = {\n",
    "    'SVC':svc,\n",
    "    'KN':knc,\n",
    "    'NB':mnb,\n",
    "    'Dt':dtc,\n",
    "    'LR':lrc,\n",
    "    'RF':rfc,\n",
    "    'AdaBoost':abc,\n",
    "    'BgC':bc,\n",
    "    'ETC':etc,\n",
    "    'GBDT':gbc,\n",
    "    'Xgb':xgb\n",
    "}"
   ]
  },
  {
   "cell_type": "code",
   "execution_count": null,
   "metadata": {
    "executionInfo": {
     "elapsed": 4,
     "status": "ok",
     "timestamp": 1673411125494,
     "user": {
      "displayName": "Aayaan Gautam",
      "userId": "01710677934728348257"
     },
     "user_tz": -345
    },
    "id": "z8WpA5e9s4x8"
   },
   "outputs": [],
   "source": [
    "def train_classifier(clf,X_train,y_train,X_test,y_test):\n",
    "  clf.fit(X_train,y_train)\n",
    "  y_pred = clf.predict(X_test)\n",
    "  accuracy = accuracy_score(y_test,y_pred)\n",
    "  precision = precision_score(y_test,y_pred)\n",
    "\n",
    "  return accuracy,precision"
   ]
  },
  {
   "cell_type": "code",
   "execution_count": null,
   "metadata": {
    "colab": {
     "base_uri": "https://localhost:8080/"
    },
    "executionInfo": {
     "elapsed": 13255,
     "status": "ok",
     "timestamp": 1673411138745,
     "user": {
      "displayName": "Aayaan Gautam",
      "userId": "01710677934728348257"
     },
     "user_tz": -345
    },
    "id": "gndr8O6tw2wp",
    "outputId": "0669dbfc-54f0-4b82-866f-7f51d454283c"
   },
   "outputs": [],
   "source": [
    "train_classifier(svc,X_train,y_train,X_test,y_test)"
   ]
  },
  {
   "cell_type": "code",
   "execution_count": null,
   "metadata": {
    "colab": {
     "base_uri": "https://localhost:8080/"
    },
    "executionInfo": {
     "elapsed": 303515,
     "status": "ok",
     "timestamp": 1673411442249,
     "user": {
      "displayName": "Aayaan Gautam",
      "userId": "01710677934728348257"
     },
     "user_tz": -345
    },
    "id": "tbUj5VwtxCwp",
    "outputId": "b460c0c0-70dc-49d2-a6fb-4260f1dc091c"
   },
   "outputs": [],
   "source": [
    "\n",
    "accuracy_scores = []\n",
    "precision_scores = []\n",
    "for name,clf in clfs.items():\n",
    "    current_accuracy,current_precision = train_classifier(clf,X_train,y_train,X_test,y_test)\n",
    "\n",
    "    print(\"For\",name)\n",
    "    print(\"Accuracy - \",current_accuracy)\n",
    "    print(\"Precision - \",current_precision)\n",
    "\n",
    "    accuracy_scores.append(current_accuracy)\n",
    "    precision_scores.append(current_precision)\n",
    "    "
   ]
  },
  {
   "cell_type": "code",
   "execution_count": null,
   "metadata": {
    "executionInfo": {
     "elapsed": 24,
     "status": "ok",
     "timestamp": 1673411442250,
     "user": {
      "displayName": "Aayaan Gautam",
      "userId": "01710677934728348257"
     },
     "user_tz": -345
    },
    "id": "V_hpCKCazo2L"
   },
   "outputs": [],
   "source": [
    "performance_df = pd.DataFrame({'Algorithm':clfs.keys(), 'Accuracy':accuracy_scores,'Precision':precision_scores}).sort_values('Precision',ascending=False)"
   ]
  },
  {
   "cell_type": "code",
   "execution_count": null,
   "metadata": {
    "colab": {
     "base_uri": "https://localhost:8080/",
     "height": 394
    },
    "executionInfo": {
     "elapsed": 22,
     "status": "ok",
     "timestamp": 1673411442250,
     "user": {
      "displayName": "Aayaan Gautam",
      "userId": "01710677934728348257"
     },
     "user_tz": -345
    },
    "id": "0ium8cwa_apV",
    "outputId": "4ce4c520-5cb5-4436-a5f7-ac5b359de8a2"
   },
   "outputs": [],
   "source": [
    "performance_df"
   ]
  },
  {
   "cell_type": "code",
   "execution_count": null,
   "metadata": {
    "executionInfo": {
     "elapsed": 21,
     "status": "ok",
     "timestamp": 1673411442250,
     "user": {
      "displayName": "Aayaan Gautam",
      "userId": "01710677934728348257"
     },
     "user_tz": -345
    },
    "id": "_VTDpXLP_c9F"
   },
   "outputs": [],
   "source": [
    "perfomance_df1 = pd.melt(performance_df,id_vars=\"Algorithm\")"
   ]
  },
  {
   "cell_type": "code",
   "execution_count": null,
   "metadata": {
    "colab": {
     "base_uri": "https://localhost:8080/",
     "height": 739
    },
    "executionInfo": {
     "elapsed": 21,
     "status": "ok",
     "timestamp": 1673411442251,
     "user": {
      "displayName": "Aayaan Gautam",
      "userId": "01710677934728348257"
     },
     "user_tz": -345
    },
    "id": "osRF2r6c_3i-",
    "outputId": "078ad220-4527-4b15-f1f6-e696d4931c1d"
   },
   "outputs": [],
   "source": [
    "perfomance_df1"
   ]
  },
  {
   "cell_type": "code",
   "execution_count": null,
   "metadata": {
    "colab": {
     "base_uri": "https://localhost:8080/",
     "height": 411
    },
    "executionInfo": {
     "elapsed": 1147,
     "status": "ok",
     "timestamp": 1673411443379,
     "user": {
      "displayName": "Aayaan Gautam",
      "userId": "01710677934728348257"
     },
     "user_tz": -345
    },
    "id": "N0CyUZhx_6kB",
    "outputId": "200fd231-518e-4b24-b3a4-628c45b3a3c6"
   },
   "outputs": [],
   "source": [
    "sns.catplot(x='Algorithm',y='value',hue='variable',data=perfomance_df1,kind='bar',height=5)\n",
    "plt.ylim(0.5,1.0)\n",
    "plt.xticks(rotation='vertical')\n",
    "plt.show()"
   ]
  },
  {
   "cell_type": "code",
   "execution_count": null,
   "metadata": {
    "executionInfo": {
     "elapsed": 1746,
     "status": "ok",
     "timestamp": 1673416923843,
     "user": {
      "displayName": "Aayaan Gautam",
      "userId": "01710677934728348257"
     },
     "user_tz": -345
    },
    "id": "b27wXjsZBOCC"
   },
   "outputs": [],
   "source": [
    "#model imporves\n",
    "#1. change the max_features [ara,eter pf TfIdf]\n",
    "#temp_df = pd.DataFrame({'Algorithm':clfs.Keys(),'Accuracy_max_ft_3000':accuracy_scores,'Precision_max_ft_3000':precision_scores}).sort_values('Precision',ascending=False)"
   ]
  },
  {
   "cell_type": "code",
   "execution_count": null,
   "metadata": {
    "executionInfo": {
     "elapsed": 438,
     "status": "ok",
     "timestamp": 1673417282900,
     "user": {
      "displayName": "Aayaan Gautam",
      "userId": "01710677934728348257"
     },
     "user_tz": -345
    },
    "id": "W1wYhhMcD6nm"
   },
   "outputs": [],
   "source": [
    "temp_df = pd.DataFrame({'Algorithm':clfs.keys(),'Accuracy_max_ft_3000':accuracy_scores,'Precision_max_ft_3000':precision_scores}).sort_values('Precision_max_ft_3000',ascending=False)"
   ]
  },
  {
   "cell_type": "code",
   "execution_count": null,
   "metadata": {
    "executionInfo": {
     "elapsed": 439,
     "status": "ok",
     "timestamp": 1673417394212,
     "user": {
      "displayName": "Aayaan Gautam",
      "userId": "01710677934728348257"
     },
     "user_tz": -345
    },
    "id": "VLmuvSAYcVDL"
   },
   "outputs": [],
   "source": [
    "temp_df = pd.DataFrame({'Algorithm':clfs.keys(),'Accuracy_scaling':accuracy_scores,'Precision_scaling':precision_scores}).sort_values('Precision_scaling',ascending=False)"
   ]
  },
  {
   "cell_type": "code",
   "execution_count": null,
   "metadata": {
    "colab": {
     "base_uri": "https://localhost:8080/",
     "height": 394
    },
    "executionInfo": {
     "elapsed": 454,
     "status": "ok",
     "timestamp": 1673417473366,
     "user": {
      "displayName": "Aayaan Gautam",
      "userId": "01710677934728348257"
     },
     "user_tz": -345
    },
    "id": "xyKxRkvVcwOP",
    "outputId": "02e2182a-6a34-4fd9-aef7-66074bd35b86"
   },
   "outputs": [],
   "source": [
    "performance_df.merge(temp_df,on='Algorithm')"
   ]
  },
  {
   "cell_type": "code",
   "execution_count": null,
   "metadata": {
    "id": "gQ78m8Pfc7JD"
   },
   "outputs": [],
   "source": []
  }
 ],
 "metadata": {
  "colab": {
   "authorship_tag": "ABX9TyOtNCt0naOWfM45uMF33IkL",
   "provenance": []
  },
  "kernelspec": {
   "display_name": "Python 3 (ipykernel)",
   "language": "python",
   "name": "python3"
  },
  "language_info": {
   "codemirror_mode": {
    "name": "ipython",
    "version": 3
   },
   "file_extension": ".py",
   "mimetype": "text/x-python",
   "name": "python",
   "nbconvert_exporter": "python",
   "pygments_lexer": "ipython3",
   "version": "3.9.13"
  }
 },
 "nbformat": 4,
 "nbformat_minor": 1
}
